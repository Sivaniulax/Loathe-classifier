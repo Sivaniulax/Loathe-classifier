{
 "cells": [
  {
   "cell_type": "code",
   "execution_count": 66,
   "id": "9e66e8ed",
   "metadata": {},
   "outputs": [],
   "source": [
    "import pandas as pd\n",
    "import numpy as np\n",
    "import seaborn as sns"
   ]
  },
  {
   "cell_type": "code",
   "execution_count": 67,
   "id": "223d75a1",
   "metadata": {},
   "outputs": [],
   "source": [
    "from sklearn.linear_model import LogisticRegression\n",
    "from sklearn.naive_bayes import MultinomialNB\n",
    "from sklearn.feature_extraction.text import CountVectorizer\n",
    "from sklearn.model_selection import train_test_split\n",
    "from sklearn.metrics import accuracy_score,classification_report,confusion_matrix"
   ]
  },
  {
   "cell_type": "code",
   "execution_count": 5,
   "id": "077f2a34",
   "metadata": {},
   "outputs": [
    {
     "name": "stdout",
     "output_type": "stream",
     "text": [
      "Defaulting to user installation because normal site-packages is not writeableNote: you may need to restart the kernel to use updated packages.\n",
      "\n",
      "Collecting neattext\n",
      "  Downloading neattext-0.1.3-py3-none-any.whl (114 kB)\n",
      "     -------------------------------------- 114.7/114.7 kB 1.7 MB/s eta 0:00:00\n",
      "Installing collected packages: neattext\n",
      "Successfully installed neattext-0.1.3\n"
     ]
    }
   ],
   "source": [
    "#pip install neattext"
   ]
  },
  {
   "cell_type": "code",
   "execution_count": 68,
   "id": "1b1e5227",
   "metadata": {},
   "outputs": [],
   "source": [
    "import neattext.functions as nfx"
   ]
  },
  {
   "cell_type": "code",
   "execution_count": 94,
   "id": "2f415e07",
   "metadata": {},
   "outputs": [
    {
     "data": {
      "text/html": [
       "<div>\n",
       "<style scoped>\n",
       "    .dataframe tbody tr th:only-of-type {\n",
       "        vertical-align: middle;\n",
       "    }\n",
       "\n",
       "    .dataframe tbody tr th {\n",
       "        vertical-align: top;\n",
       "    }\n",
       "\n",
       "    .dataframe thead th {\n",
       "        text-align: right;\n",
       "    }\n",
       "</style>\n",
       "<table border=\"1\" class=\"dataframe\">\n",
       "  <thead>\n",
       "    <tr style=\"text-align: right;\">\n",
       "      <th></th>\n",
       "      <th>Emotion</th>\n",
       "      <th>Text</th>\n",
       "    </tr>\n",
       "  </thead>\n",
       "  <tbody>\n",
       "    <tr>\n",
       "      <th>0</th>\n",
       "      <td>neutral</td>\n",
       "      <td>Why ?</td>\n",
       "    </tr>\n",
       "    <tr>\n",
       "      <th>1</th>\n",
       "      <td>joy</td>\n",
       "      <td>Sage Act upgrade on my to do list for tommorow.</td>\n",
       "    </tr>\n",
       "    <tr>\n",
       "      <th>2</th>\n",
       "      <td>sadness</td>\n",
       "      <td>ON THE WAY TO MY HOMEGIRL BABY FUNERAL!!! MAN ...</td>\n",
       "    </tr>\n",
       "    <tr>\n",
       "      <th>3</th>\n",
       "      <td>joy</td>\n",
       "      <td>Such an eye ! The true hazel eye-and so brill...</td>\n",
       "    </tr>\n",
       "    <tr>\n",
       "      <th>4</th>\n",
       "      <td>joy</td>\n",
       "      <td>@Iluvmiasantos ugh babe.. hugggzzz for u .!  b...</td>\n",
       "    </tr>\n",
       "  </tbody>\n",
       "</table>\n",
       "</div>"
      ],
      "text/plain": [
       "   Emotion                                               Text\n",
       "0  neutral                                             Why ? \n",
       "1      joy    Sage Act upgrade on my to do list for tommorow.\n",
       "2  sadness  ON THE WAY TO MY HOMEGIRL BABY FUNERAL!!! MAN ...\n",
       "3      joy   Such an eye ! The true hazel eye-and so brill...\n",
       "4      joy  @Iluvmiasantos ugh babe.. hugggzzz for u .!  b..."
      ]
     },
     "execution_count": 94,
     "metadata": {},
     "output_type": "execute_result"
    }
   ],
   "source": [
    "df = pd.read_csv(\"raw_data.csv\")\n",
    "df.head(5)"
   ]
  },
  {
   "cell_type": "code",
   "execution_count": 95,
   "id": "325f80b6",
   "metadata": {},
   "outputs": [
    {
     "data": {
      "text/plain": [
       "joy         11045\n",
       "sadness      6722\n",
       "fear         5410\n",
       "anger        4297\n",
       "surprise     4062\n",
       "neutral      2254\n",
       "disgust       856\n",
       "shame         146\n",
       "Name: Emotion, dtype: int64"
      ]
     },
     "execution_count": 95,
     "metadata": {},
     "output_type": "execute_result"
    }
   ],
   "source": [
    "df['Emotion'].value_counts()"
   ]
  },
  {
   "cell_type": "code",
   "execution_count": 96,
   "id": "8602eed0",
   "metadata": {},
   "outputs": [
    {
     "data": {
      "text/plain": [
       "<AxesSubplot:xlabel='Emotion', ylabel='count'>"
      ]
     },
     "execution_count": 96,
     "metadata": {},
     "output_type": "execute_result"
    },
    {
     "data": {
      "image/png": "[encoded data removed]",
      "text/plain": [
       "<Figure size 640x480 with 1 Axes>"
      ]
     },
     "metadata": {},
     "output_type": "display_data"
    }
   ],
   "source": [
    "sns.countplot(x='Emotion',data=df)"
   ]
  },
  {
   "cell_type": "code",
   "execution_count": 97,
   "id": "569bb4cf",
   "metadata": {},
   "outputs": [
    {
     "name": "stdout",
     "output_type": "stream",
     "text": [
      "       Emotion                                               Text\n",
      "2      sadness  ON THE WAY TO MY HOMEGIRL BABY FUNERAL!!! MAN ...\n",
      "6      sadness   .Couldnt wait to see them live. If missing th...\n",
      "11     sadness            People hide their behind a #fake smile.\n",
      "15     sadness  Shakuhachi dress $580,  10-22 mm lens $708 #pa...\n",
      "20     sadness    Oh , that's too bad . Should I call a doctor ? \n",
      "...        ...                                                ...\n",
      "34743  sadness  RIP Patrice O'Neil....the world of funny will ...\n",
      "34748  sadness  My sister lost one of her twin sons (my first ...\n",
      "34753  sadness  Sebastian Village is pissing me off I still do...\n",
      "34767  sadness  The thought that I'll never sit at the school ...\n",
      "34791  sadness  I think about you baby, and I dream about you ...\n",
      "\n",
      "[6722 rows x 2 columns]\n"
     ]
    }
   ],
   "source": [
    "print(df[df['Emotion'] == 'sadness'])"
   ]
  },
  {
   "cell_type": "code",
   "execution_count": 98,
   "id": "af383b4f",
   "metadata": {},
   "outputs": [
    {
     "name": "stdout",
     "output_type": "stream",
     "text": [
      "       Emotion                                               Text\n",
      "0      neutral                                             Why ? \n",
      "61     neutral   My mother-in-law used to do the same thing to...\n",
      "68     neutral   Well , I didn't think so at first . But as we...\n",
      "76     neutral                                 Once in a while . \n",
      "114    neutral                                              So ? \n",
      "...        ...                                                ...\n",
      "34745  neutral                                        How's it ? \n",
      "34750  neutral                                            John . \n",
      "34765  neutral                                            Sure . \n",
      "34771  neutral                                         Too bad . \n",
      "34783  neutral                                         Not yet . \n",
      "\n",
      "[2254 rows x 2 columns]\n"
     ]
    }
   ],
   "source": [
    "print(df[df['Emotion'] == 'neutral'])"
   ]
  },
  {
   "cell_type": "code",
   "execution_count": 99,
   "id": "417a729e",
   "metadata": {},
   "outputs": [
    {
     "name": "stdout",
     "output_type": "stream",
     "text": [
      "      Emotion                                               Text\n",
      "1         joy    Sage Act upgrade on my to do list for tommorow.\n",
      "3         joy   Such an eye ! The true hazel eye-and so brill...\n",
      "4         joy  @Iluvmiasantos ugh babe.. hugggzzz for u .!  b...\n",
      "12        joy  For once in his life , Leopold must have been ...\n",
      "17        joy    I have a feeling i will fail french #fuckfrench\n",
      "...       ...                                                ...\n",
      "34778     joy                 In other news, my mum made EFO.   \n",
      "34784     joy  ~ As musicas que nois danço com os munitores t...\n",
      "34785     joy  When I understood that I was admitted to the U...\n",
      "34786     joy    Tuesday woken up to Oscar and Cornet practice X\n",
      "34788     joy  The world didnt give it to me..so the world MO...\n",
      "\n",
      "[11045 rows x 2 columns]\n"
     ]
    }
   ],
   "source": [
    "print(df[df['Emotion'] == 'joy'])"
   ]
  },
  {
   "cell_type": "code",
   "execution_count": 100,
   "id": "3bcdffd5",
   "metadata": {},
   "outputs": [
    {
     "name": "stdout",
     "output_type": "stream",
     "text": [
      "        Emotion                                               Text\n",
      "7      surprise  maken Tip 2: Stop op een moment dat je het hel...\n",
      "8      surprise  En dan krijg je ff een cadeautje van een tweep...\n",
      "9      surprise   @1116am Drummer Boy bij op verzoek van @BiemO...\n",
      "16     surprise  Haha of course I come home to a different hous...\n",
      "19     surprise  @JuliaLeader I reeeeeellllyyyyyyy need to tell...\n",
      "...         ...                                                ...\n",
      "34742  surprise  @Adele_am au niveau de la robe moi j'en ai vu ...\n",
      "34760  surprise  The apt is xmas ready. Can't wait for my mom t...\n",
      "34770  surprise  Ten minutes late to work today (again) and my ...\n",
      "34780  surprise  why is my paper not finished? oh that's right,...\n",
      "34787  surprise  @MichelGW have you gift! Hope you like it! It'...\n",
      "\n",
      "[4062 rows x 2 columns]\n"
     ]
    }
   ],
   "source": [
    "print(df[df['Emotion'] == 'surprise'])"
   ]
  },
  {
   "cell_type": "code",
   "execution_count": 101,
   "id": "4d03fbd0",
   "metadata": {},
   "outputs": [],
   "source": [
    "df['Emotion'] = df['Emotion'].replace(['neutral'], 'Not Hate Speech')\n",
    "df['Emotion'] = df['Emotion'].replace(['joy'], 'Not Hate Speech')\n",
    "df['Emotion'] = df['Emotion'].replace(['sadness'], 'Not Hate Speech')\n",
    "df['Emotion'] = df['Emotion'].replace(['surprise'], 'Not Hate Speech')"
   ]
  },
  {
   "cell_type": "code",
   "execution_count": 102,
   "id": "f56eaba8",
   "metadata": {},
   "outputs": [
    {
     "name": "stdout",
     "output_type": "stream",
     "text": [
      "      Emotion                                               Text\n",
      "5        fear  I'm expecting an extremely important phonecall...\n",
      "13       fear  Against the assault of laughter nothing can st...\n",
      "22       fear  is a primitive #Instinct that's your friend.It...\n",
      "24       fear  I was riding with a friend in his car. At a sp...\n",
      "31       fear  is a friend that you misunderstood but I know ...\n",
      "...       ...                                                ...\n",
      "34773    fear  Best thing ive heard all day....RT @RevRunWisd...\n",
      "34774    fear  If your child is  reassure her something will ...\n",
      "34781    fear  Tom Shakeshaft , who is 15 , reveals his disma...\n",
      "34782    fear  @JulieCarney27 world of pain... But, got up,bo...\n",
      "34790    fear  Youu call it JEALOUSY, I call it of #Losing YO...\n",
      "\n",
      "[5410 rows x 2 columns]\n"
     ]
    }
   ],
   "source": [
    "print(df[df['Emotion'] == 'fear'])"
   ]
  },
  {
   "cell_type": "code",
   "execution_count": 103,
   "id": "caa94cac",
   "metadata": {},
   "outputs": [],
   "source": [
    "df['Emotion'] = df['Emotion'].replace(['fear'], 'Not Hate Speech')"
   ]
  },
  {
   "cell_type": "code",
   "execution_count": 104,
   "id": "e4dda769",
   "metadata": {},
   "outputs": [
    {
     "name": "stdout",
     "output_type": "stream",
     "text": [
      "      Emotion                                               Text\n",
      "33      shame  Nobody doubted him , or failed to recognise hi...\n",
      "341     shame  \" What 's this , playing infant games still ? ...\n",
      "610     shame  I also remember being extremely ashamed at som...\n",
      "746     shame  Jasper reddened and pressed his lip together ,...\n",
      "1077    shame  Now she was getting increasingly embarrassed a...\n",
      "...       ...                                                ...\n",
      "33117   shame  Bob became embarrassed at his own effusiveness...\n",
      "33560   shame  He grinned unrepentantly , watching her deep b...\n",
      "33798   shame  The row over the Fayed brothers ' acquisition ...\n",
      "33967   shame         Sendei was n't ashamed to show his fear . \n",
      "34173   shame  Ashamed of having frightened me , he looked at...\n",
      "\n",
      "[146 rows x 2 columns]\n"
     ]
    }
   ],
   "source": [
    "print(df[df['Emotion'] == 'shame'])"
   ]
  },
  {
   "cell_type": "code",
   "execution_count": 105,
   "id": "19279de1",
   "metadata": {},
   "outputs": [
    {
     "name": "stdout",
     "output_type": "stream",
     "text": [
      "      Emotion                                               Text\n",
      "10      anger  The bull tossed the effigy out of their hands ...\n",
      "14      anger   With everything , with everybody , with all t...\n",
      "23      anger                           I have to talk to you ! \n",
      "41      anger  When you kill yourself with work and see the n...\n",
      "44      anger  My parents didn't allow me to go to a social f...\n",
      "...       ...                                                ...\n",
      "34762   anger  letting Explosions in the Sky express your pen...\n",
      "34763   anger       ` You 're angry I 'm here , are n't you ? \" \n",
      "34775   anger  Iv used my monthly allowance of Internet data ...\n",
      "34779   anger  Love when i dont beat my highscore in doodleju...\n",
      "34789   anger                           A man robbed me today . \n",
      "\n",
      "[4297 rows x 2 columns]\n"
     ]
    }
   ],
   "source": [
    "print(df[df['Emotion'] == 'anger'])"
   ]
  },
  {
   "cell_type": "code",
   "execution_count": 106,
   "id": "4aebdffd",
   "metadata": {},
   "outputs": [
    {
     "name": "stdout",
     "output_type": "stream",
     "text": [
      "       Emotion                                               Text\n",
      "90     disgust  @wt2themax1 I'm sorry my blanket isn't comfort...\n",
      "134    disgust  It linked the poor performance with the exodus...\n",
      "197    disgust  ewww she got that nasty ass default like she c...\n",
      "204    disgust  I understand the mood but if some of them are ...\n",
      "231    disgust  &quot;was that a period poop? it definitely sm...\n",
      "...        ...                                                ...\n",
      "34252  disgust  Ew just stepped on a mammoth size snail while ...\n",
      "34384  disgust  the awkward moment when an 'ex' calls u 'sis' ...\n",
      "34396  disgust  “@BarackObama: Tonight, Senate Republicans vot...\n",
      "34467  disgust              This bus smell like straight FISH !! \n",
      "34581  disgust  Those people who eat loads of crappy food all ...\n",
      "\n",
      "[856 rows x 2 columns]\n"
     ]
    }
   ],
   "source": [
    "print(df[df['Emotion'] == 'disgust'])"
   ]
  },
  {
   "cell_type": "code",
   "execution_count": 107,
   "id": "03dd1f9f",
   "metadata": {},
   "outputs": [],
   "source": [
    "df['Emotion'] = df['Emotion'].replace(['shame'], 'Hate Speech')\n",
    "df['Emotion'] = df['Emotion'].replace(['anger'], 'Hate Speech')\n",
    "df['Emotion'] = df['Emotion'].replace(['disgust'], 'Hate Speech')"
   ]
  },
  {
   "cell_type": "code",
   "execution_count": 108,
   "id": "73cf8a61",
   "metadata": {},
   "outputs": [
    {
     "data": {
      "text/html": [
       "<div>\n",
       "<style scoped>\n",
       "    .dataframe tbody tr th:only-of-type {\n",
       "        vertical-align: middle;\n",
       "    }\n",
       "\n",
       "    .dataframe tbody tr th {\n",
       "        vertical-align: top;\n",
       "    }\n",
       "\n",
       "    .dataframe thead th {\n",
       "        text-align: right;\n",
       "    }\n",
       "</style>\n",
       "<table border=\"1\" class=\"dataframe\">\n",
       "  <thead>\n",
       "    <tr style=\"text-align: right;\">\n",
       "      <th></th>\n",
       "      <th>Emotion</th>\n",
       "      <th>Text</th>\n",
       "    </tr>\n",
       "  </thead>\n",
       "  <tbody>\n",
       "    <tr>\n",
       "      <th>0</th>\n",
       "      <td>Not Hate Speech</td>\n",
       "      <td>Why ?</td>\n",
       "    </tr>\n",
       "    <tr>\n",
       "      <th>1</th>\n",
       "      <td>Not Hate Speech</td>\n",
       "      <td>Sage Act upgrade on my to do list for tommorow.</td>\n",
       "    </tr>\n",
       "    <tr>\n",
       "      <th>2</th>\n",
       "      <td>Not Hate Speech</td>\n",
       "      <td>ON THE WAY TO MY HOMEGIRL BABY FUNERAL!!! MAN ...</td>\n",
       "    </tr>\n",
       "    <tr>\n",
       "      <th>3</th>\n",
       "      <td>Not Hate Speech</td>\n",
       "      <td>Such an eye ! The true hazel eye-and so brill...</td>\n",
       "    </tr>\n",
       "    <tr>\n",
       "      <th>4</th>\n",
       "      <td>Not Hate Speech</td>\n",
       "      <td>@Iluvmiasantos ugh babe.. hugggzzz for u .!  b...</td>\n",
       "    </tr>\n",
       "  </tbody>\n",
       "</table>\n",
       "</div>"
      ],
      "text/plain": [
       "           Emotion                                               Text\n",
       "0  Not Hate Speech                                             Why ? \n",
       "1  Not Hate Speech    Sage Act upgrade on my to do list for tommorow.\n",
       "2  Not Hate Speech  ON THE WAY TO MY HOMEGIRL BABY FUNERAL!!! MAN ...\n",
       "3  Not Hate Speech   Such an eye ! The true hazel eye-and so brill...\n",
       "4  Not Hate Speech  @Iluvmiasantos ugh babe.. hugggzzz for u .!  b..."
      ]
     },
     "execution_count": 108,
     "metadata": {},
     "output_type": "execute_result"
    }
   ],
   "source": [
    "df.head(5)"
   ]
  },
  {
   "cell_type": "code",
   "execution_count": 109,
   "id": "daf7d60c",
   "metadata": {},
   "outputs": [],
   "source": [
    "data = pd.DataFrame()\n",
    "data['Emotion'] = df['Emotion']\n",
    "data['Text'] = df['Text'].apply(nfx.remove_userhandles)"
   ]
  },
  {
   "cell_type": "code",
   "execution_count": 110,
   "id": "1a01f875",
   "metadata": {},
   "outputs": [
    {
     "data": {
      "text/html": [
       "<div>\n",
       "<style scoped>\n",
       "    .dataframe tbody tr th:only-of-type {\n",
       "        vertical-align: middle;\n",
       "    }\n",
       "\n",
       "    .dataframe tbody tr th {\n",
       "        vertical-align: top;\n",
       "    }\n",
       "\n",
       "    .dataframe thead th {\n",
       "        text-align: right;\n",
       "    }\n",
       "</style>\n",
       "<table border=\"1\" class=\"dataframe\">\n",
       "  <thead>\n",
       "    <tr style=\"text-align: right;\">\n",
       "      <th></th>\n",
       "      <th>Emotion</th>\n",
       "      <th>Text</th>\n",
       "    </tr>\n",
       "  </thead>\n",
       "  <tbody>\n",
       "    <tr>\n",
       "      <th>0</th>\n",
       "      <td>Not Hate Speech</td>\n",
       "      <td>Why ?</td>\n",
       "    </tr>\n",
       "    <tr>\n",
       "      <th>1</th>\n",
       "      <td>Not Hate Speech</td>\n",
       "      <td>Sage Act upgrade on my to do list for tommorow.</td>\n",
       "    </tr>\n",
       "    <tr>\n",
       "      <th>2</th>\n",
       "      <td>Not Hate Speech</td>\n",
       "      <td>ON THE WAY TO MY HOMEGIRL BABY FUNERAL!!! MAN ...</td>\n",
       "    </tr>\n",
       "    <tr>\n",
       "      <th>3</th>\n",
       "      <td>Not Hate Speech</td>\n",
       "      <td>Such an eye ! The true hazel eye-and so brill...</td>\n",
       "    </tr>\n",
       "    <tr>\n",
       "      <th>4</th>\n",
       "      <td>Not Hate Speech</td>\n",
       "      <td>ugh babe.. hugggzzz for u .!  babe naamazed ...</td>\n",
       "    </tr>\n",
       "  </tbody>\n",
       "</table>\n",
       "</div>"
      ],
      "text/plain": [
       "           Emotion                                               Text\n",
       "0  Not Hate Speech                                             Why ? \n",
       "1  Not Hate Speech    Sage Act upgrade on my to do list for tommorow.\n",
       "2  Not Hate Speech  ON THE WAY TO MY HOMEGIRL BABY FUNERAL!!! MAN ...\n",
       "3  Not Hate Speech   Such an eye ! The true hazel eye-and so brill...\n",
       "4  Not Hate Speech    ugh babe.. hugggzzz for u .!  babe naamazed ..."
      ]
     },
     "execution_count": 110,
     "metadata": {},
     "output_type": "execute_result"
    }
   ],
   "source": [
    "data.head()"
   ]
  },
  {
   "cell_type": "code",
   "execution_count": 111,
   "id": "ba236707",
   "metadata": {},
   "outputs": [],
   "source": [
    "data['Text'] = data['Text'].apply(nfx.remove_stopwords)"
   ]
  },
  {
   "cell_type": "code",
   "execution_count": 112,
   "id": "45706205",
   "metadata": {},
   "outputs": [
    {
     "data": {
      "text/html": [
       "<div>\n",
       "<style scoped>\n",
       "    .dataframe tbody tr th:only-of-type {\n",
       "        vertical-align: middle;\n",
       "    }\n",
       "\n",
       "    .dataframe tbody tr th {\n",
       "        vertical-align: top;\n",
       "    }\n",
       "\n",
       "    .dataframe thead th {\n",
       "        text-align: right;\n",
       "    }\n",
       "</style>\n",
       "<table border=\"1\" class=\"dataframe\">\n",
       "  <thead>\n",
       "    <tr style=\"text-align: right;\">\n",
       "      <th></th>\n",
       "      <th>Emotion</th>\n",
       "      <th>Text</th>\n",
       "    </tr>\n",
       "  </thead>\n",
       "  <tbody>\n",
       "    <tr>\n",
       "      <th>0</th>\n",
       "      <td>Not Hate Speech</td>\n",
       "      <td>?</td>\n",
       "    </tr>\n",
       "    <tr>\n",
       "      <th>1</th>\n",
       "      <td>Not Hate Speech</td>\n",
       "      <td>Sage Act upgrade list tommorow.</td>\n",
       "    </tr>\n",
       "    <tr>\n",
       "      <th>2</th>\n",
       "      <td>Not Hate Speech</td>\n",
       "      <td>WAY HOMEGIRL BABY FUNERAL!!! MAN HATE FUNERALS...</td>\n",
       "    </tr>\n",
       "    <tr>\n",
       "      <th>3</th>\n",
       "      <td>Not Hate Speech</td>\n",
       "      <td>eye ! true hazel eye-and brilliant ! Regular f...</td>\n",
       "    </tr>\n",
       "    <tr>\n",
       "      <th>4</th>\n",
       "      <td>Not Hate Speech</td>\n",
       "      <td>ugh babe.. hugggzzz u .! babe naamazed nga ako...</td>\n",
       "    </tr>\n",
       "  </tbody>\n",
       "</table>\n",
       "</div>"
      ],
      "text/plain": [
       "           Emotion                                               Text\n",
       "0  Not Hate Speech                                                  ?\n",
       "1  Not Hate Speech                    Sage Act upgrade list tommorow.\n",
       "2  Not Hate Speech  WAY HOMEGIRL BABY FUNERAL!!! MAN HATE FUNERALS...\n",
       "3  Not Hate Speech  eye ! true hazel eye-and brilliant ! Regular f...\n",
       "4  Not Hate Speech  ugh babe.. hugggzzz u .! babe naamazed nga ako..."
      ]
     },
     "execution_count": 112,
     "metadata": {},
     "output_type": "execute_result"
    }
   ],
   "source": [
    "data.head()"
   ]
  },
  {
   "cell_type": "code",
   "execution_count": 113,
   "id": "034e51c4",
   "metadata": {},
   "outputs": [],
   "source": [
    "Xfeatures = data['Text']\n",
    "ylabels = data['Emotion']"
   ]
  },
  {
   "cell_type": "code",
   "execution_count": 114,
   "id": "1b076a9b",
   "metadata": {},
   "outputs": [],
   "source": [
    "x_train,x_test,y_train,y_test = train_test_split(Xfeatures,ylabels,test_size=0.3,random_state=50)"
   ]
  },
  {
   "cell_type": "code",
   "execution_count": 115,
   "id": "112cc1e3",
   "metadata": {},
   "outputs": [],
   "source": [
    "from sklearn.pipeline import Pipeline"
   ]
  },
  {
   "cell_type": "code",
   "execution_count": 116,
   "id": "4429c74f",
   "metadata": {
    "collapsed": true
   },
   "outputs": [
    {
     "name": "stderr",
     "output_type": "stream",
     "text": [
      "C:\\ProgramData\\Anaconda3\\lib\\site-packages\\sklearn\\linear_model\\_logistic.py:814: ConvergenceWarning: lbfgs failed to converge (status=1):\n",
      "STOP: TOTAL NO. of ITERATIONS REACHED LIMIT.\n",
      "\n",
      "Increase the number of iterations (max_iter) or scale the data as shown in:\n",
      "    https://scikit-learn.org/stable/modules/preprocessing.html\n",
      "Please also refer to the documentation for alternative solver options:\n",
      "    https://scikit-learn.org/stable/modules/linear_model.html#logistic-regression\n",
      "  n_iter_i = _check_optimize_result(\n"
     ]
    },
    {
     "data": {
      "text/plain": [
       "Pipeline(steps=[('cv', CountVectorizer()), ('lr', LogisticRegression())])"
      ]
     },
     "execution_count": 116,
     "metadata": {},
     "output_type": "execute_result"
    }
   ],
   "source": [
    "pipe_lr = Pipeline(steps=[('cv',CountVectorizer()),('lr',LogisticRegression())])\n",
    "pipe_lr.fit(x_train,y_train)"
   ]
  },
  {
   "cell_type": "code",
   "execution_count": 117,
   "id": "504154c9",
   "metadata": {},
   "outputs": [
    {
     "data": {
      "text/plain": [
       "0.8960528836941943"
      ]
     },
     "execution_count": 117,
     "metadata": {},
     "output_type": "execute_result"
    }
   ],
   "source": [
    "pipe_lr.score(x_test,y_test) #accuracy"
   ]
  },
  {
   "cell_type": "code",
   "execution_count": 118,
   "id": "1ce378a6",
   "metadata": {},
   "outputs": [
    {
     "data": {
      "text/plain": [
       "array(['Hate Speech', 'Not Hate Speech'], dtype=object)"
      ]
     },
     "execution_count": 118,
     "metadata": {},
     "output_type": "execute_result"
    }
   ],
   "source": [
    "pipe_lr.classes_"
   ]
  },
  {
   "cell_type": "code",
   "execution_count": 148,
   "id": "f9f56be5",
   "metadata": {},
   "outputs": [],
   "source": [
    "temp1 = \"you are a good person\"\n",
    "temp2 = \"You are a angry bird\"\n",
    "temp3 = \"\""
   ]
  },
  {
   "cell_type": "code",
   "execution_count": 149,
   "id": "4165d8ac",
   "metadata": {},
   "outputs": [
    {
     "data": {
      "text/plain": [
       "array(['Not Hate Speech'], dtype=object)"
      ]
     },
     "execution_count": 149,
     "metadata": {},
     "output_type": "execute_result"
    }
   ],
   "source": [
    "pipe_lr.predict([temp1])"
   ]
  },
  {
   "cell_type": "code",
   "execution_count": 150,
   "id": "2197fbfe",
   "metadata": {},
   "outputs": [
    {
     "data": {
      "text/plain": [
       "array(['Hate Speech'], dtype=object)"
      ]
     },
     "execution_count": 150,
     "metadata": {},
     "output_type": "execute_result"
    }
   ],
   "source": [
    "pipe_lr.predict([temp2])"
   ]
  },
  {
   "cell_type": "code",
   "execution_count": 140,
   "id": "87695e15",
   "metadata": {},
   "outputs": [],
   "source": [
    "import joblib #save model"
   ]
  },
  {
   "cell_type": "code",
   "execution_count": 151,
   "id": "e7abca51",
   "metadata": {},
   "outputs": [],
   "source": [
    "pipeline_file = open(\"picle_file.pkl\",\"wb\")\n",
    "joblib.dump(pipe_lr,pipeline_file)\n",
    "pipeline_file.close()"
   ]
  }
 ],
 "metadata": {
  "kernelspec": {
   "display_name": "Python 3 (ipykernel)",
   "language": "python",
   "name": "python3"
  },
  "language_info": {
   "codemirror_mode": {
    "name": "ipython",
    "version": 3
   },
   "file_extension": ".py",
   "mimetype": "text/x-python",
   "name": "python",
   "nbconvert_exporter": "python",
   "pygments_lexer": "ipython3",
   "version": "3.9.13"
  }
 },
 "nbformat": 4,
 "nbformat_minor": 5
}
